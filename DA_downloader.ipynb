{
 "cells": [
  {
   "cell_type": "code",
   "execution_count": 1,
   "metadata": {},
   "outputs": [],
   "source": [
    "import shelve\n",
    "from time import sleep\n",
    "import vk_api\n",
    "from vk_api import VkUpload\n",
    "from vk_api.longpoll import VkLongPoll, VkEventType\n",
    "import requests\n",
    "from vk_api.execute import VkFunction\n",
    "import pandas as pd\n",
    "import matplotlib.pyplot as plt\n",
    "import matplotlib\n",
    "import json\n",
    "import datetime\n",
    "import numpy as np\n",
    "import shelve\n",
    "\n",
    "\n",
    "import settings"
   ]
  },
  {
   "cell_type": "code",
   "execution_count": 2,
   "metadata": {},
   "outputs": [],
   "source": [
    "def isCommunityAlive(comm_id, vk):\n",
    "    try:\n",
    "        info = vk.wall.get(owner_id=-comm_id, owners_only=1, count=2)\n",
    "        try:\n",
    "            date1 = datetime.datetime.fromtimestamp(info.get('items')[0].get('date'))\n",
    "        except:\n",
    "            return (comm_id,  \"Dead\") #No posts\n",
    "                                                    \n",
    "        try: #the only one post\n",
    "            date2 = datetime.datetime.fromtimestamp(info.get('items')[1].get('date'))\n",
    "            last_post_date = max(date1, date2)\n",
    "        except:\n",
    "            last_post_date = date1\n",
    "                             \n",
    "        last_count = datetime.datetime.now() - last_post_date\n",
    "        if (last_count.days < 30):\n",
    "            return (comm_id, \"Alive\")\n",
    "        else:\n",
    "            return (comm_id, \"Dead\")\n",
    "    except vk_api.exceptions.ApiError as e:\n",
    "        return (comm_id, e.__str__())"
   ]
  },
  {
   "cell_type": "code",
   "execution_count": 12,
   "metadata": {},
   "outputs": [],
   "source": [
    "class DA_downloader:\n",
    "    def __init__(self, to_download_file='to_download.txt',\n",
    "                 already_downloaded_file='already_downloaded.txt'):\n",
    "        \n",
    "        self.to_download_file = to_download_file\n",
    "        self.already_downloaded_file = already_downloaded_file\n",
    "        \n",
    "        with open(self.to_download_file) as f:\n",
    "            self.download_list = f.readlines()\n",
    "            self.download_list = [int(x.strip()) for x in self.download_list]\n",
    "        \n",
    "        with open(self.already_downloaded_file) as f:\n",
    "            self.already_downloaded = f.readlines()\n",
    "            self.already_downloaded = [int(x.strip()) for x in self.already_downloaded]\n",
    "\n",
    "        \n",
    "    def get_by_token(self, token):\n",
    "        vk_session = vk_api.VkApi(token=token)\n",
    "        try:\n",
    "            vk_session.auth(reauth=True, token_only=True)\n",
    "        except vk_api.AuthError as error_msg:\n",
    "            print(error_msg)\n",
    "    \n",
    "        vk = vk_session.get_api()\n",
    "\n",
    "        ans = []\n",
    "        for group_id in self.download_list:\n",
    "            if group_id not in self.already_downloaded:\n",
    "                ans.append(isCommunityAlive(group_id, vk))\n",
    "                if ans[-1][1] == '[29] Rate limit reached':\n",
    "                    print('[29] Rate limit reached')\n",
    "                    break\n",
    "\n",
    "        if len(ans) > 1:\n",
    "            dl_append = [id for id, status in ans if status != '[29] Rate limit reached']\n",
    "            self.already_downloaded += dl_append\n",
    "        \n",
    "            with open(self.already_downloaded_file, 'a') as f:\n",
    "                for item in dl_append:\n",
    "                    f.write(\"%s\\n\" % item)\n",
    "\n",
    "        \n",
    "            File = shelve.open(f\"data_batch_from{ans[0][0]}_to{ans[-2][0]}\")\n",
    "            self.batch_count += 1\n",
    "            File['info'] = ans[:-1]\n",
    "            File.close()\n",
    "        \n",
    "            print(f'{len(dl_append)} analyzed')\n",
    "        else:\n",
    "            print(f'Bad responce')\n",
    "        return ans\n",
    "    \n",
    "    def get_by_login(self, login=settings.MY_USER_LOGIN, password=settings.MY_USER_PASSWORD):\n",
    "        vk_session = vk_api.VkApi(login=login, password=password)\n",
    "        try:\n",
    "            vk_session.auth(reauth=True, token_only=True)\n",
    "        except vk_api.AuthError as error_msg:\n",
    "            print(error_msg)\n",
    "    \n",
    "        vk = vk_session.get_api()\n",
    "\n",
    "        ans = []\n",
    "        for group_id in self.download_list:\n",
    "            if group_id not in self.already_downloaded:\n",
    "                ans.append(isCommunityAlive(group_id, vk))\n",
    "                if ans[-1][1] == '[29] Rate limit reached':\n",
    "                    print('[29] Rate limit reached')\n",
    "                    break\n",
    "\n",
    "        if len(ans) > 1:\n",
    "            dl_append = [id for id, status in ans if status != '[29] Rate limit reached']\n",
    "            self.already_downloaded += dl_append\n",
    "        \n",
    "            with open(self.already_downloaded_file, 'a') as f:\n",
    "                for item in dl_append:\n",
    "                    f.write(\"%s\\n\" % item)\n",
    "\n",
    "        \n",
    "            File = shelve.open(f\"data_batch_from{ans[0][0]}_to{ans[-2][0]}\")\n",
    "            File['info'] = ans[:-1]\n",
    "            File.close()\n",
    "        \n",
    "            print(f'{len(dl_append)} analyzed')\n",
    "        else:\n",
    "            print(f'Bad responce')\n",
    "        return ans\n",
    "    \n",
    "    def is_finished(self):\n",
    "        return len(self.already_downloaded) == len(self.download_list)"
   ]
  },
  {
   "cell_type": "code",
   "execution_count": 13,
   "metadata": {},
   "outputs": [
    {
     "name": "stdout",
     "output_type": "stream",
     "text": [
      "[29] Rate limit reached\n",
      "Bad responce\n",
      "[29] Rate limit reached\n",
      "Bad responce\n",
      "CPU times: user 13.8 s, sys: 17.4 ms, total: 13.8 s\n",
      "Wall time: 14.6 s\n"
     ]
    }
   ],
   "source": [
    "%%time\n",
    "\n",
    "DA_dld = DA_downloader()\n",
    "DA_dld.get_by_login()\n",
    "DA_dld.get_by_login()"
   ]
  },
  {
   "cell_type": "code",
   "execution_count": 7,
   "metadata": {},
   "outputs": [
    {
     "name": "stdout",
     "output_type": "stream",
     "text": [
      "Login is required to auth\n",
      "[29] Rate limit reached\n",
      "5000 analyzed\n",
      "CPU times: user 34.4 s, sys: 965 ms, total: 35.3 s\n",
      "Wall time: 35min 32s\n"
     ]
    }
   ],
   "source": [
    "%%time\n",
    "\n",
    "token_list = ['fda37960fda37960fda3796002fdc4564affda3fda37960a6592150811214b3b116ce40']\n",
    "\n",
    "DA_dld = DA_downloader()\n",
    "\n",
    "for token in token_list:\n",
    "    DA_dld.get_by_token(token)"
   ]
  },
  {
   "cell_type": "code",
   "execution_count": 14,
   "metadata": {},
   "outputs": [],
   "source": [
    "with open('already_downloaded.txt') as f:\n",
    "    already_downloaded = f.readlines()\n",
    "    already_downloaded = [int(x.strip()) for x in already_downloaded]\n",
    "    \n",
    "already_d = already_downloaded[:-5000]\n",
    "\n",
    "with open('already_downloaded.txt', 'w') as f:\n",
    "    for item in already_d:\n",
    "        f.write(\"%s\\n\" % item)"
   ]
  },
  {
   "cell_type": "code",
   "execution_count": 15,
   "metadata": {},
   "outputs": [
    {
     "data": {
      "text/plain": [
       "39369"
      ]
     },
     "execution_count": 15,
     "metadata": {},
     "output_type": "execute_result"
    }
   ],
   "source": [
    "len(already_d)"
   ]
  },
  {
   "cell_type": "code",
   "execution_count": null,
   "metadata": {},
   "outputs": [],
   "source": []
  }
 ],
 "metadata": {
  "kernelspec": {
   "display_name": "Python 3",
   "language": "python",
   "name": "python3"
  },
  "language_info": {
   "codemirror_mode": {
    "name": "ipython",
    "version": 3
   },
   "file_extension": ".py",
   "mimetype": "text/x-python",
   "name": "python",
   "nbconvert_exporter": "python",
   "pygments_lexer": "ipython3",
   "version": "3.6.6"
  }
 },
 "nbformat": 4,
 "nbformat_minor": 2
}
