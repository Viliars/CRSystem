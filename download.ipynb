{
 "cells": [
  {
   "cell_type": "code",
   "execution_count": 1,
   "metadata": {},
   "outputs": [],
   "source": [
    "with open('to_download.txt') as f:\n",
    "    download_list = f.readlines()\n",
    "# you may also want to remove whitespace characters like `\\n` at the end of each line\n",
    "download_list = [int(x.strip()) for x in download_list]"
   ]
  },
  {
   "cell_type": "code",
   "execution_count": 2,
   "metadata": {},
   "outputs": [],
   "source": [
    "import shelve\n",
    "from time import sleep\n",
    "import vk_api\n",
    "from vk_api import VkUpload\n",
    "from vk_api.longpoll import VkLongPoll, VkEventType\n",
    "import requests\n",
    "from vk_api.execute import VkFunction\n",
    "import pandas as pd\n",
    "import matplotlib.pyplot as plt\n",
    "import matplotlib\n",
    "import json\n",
    "import datetime\n",
    "import numpy as np\n",
    "\n",
    "\n",
    "import settings"
   ]
  },
  {
   "cell_type": "code",
   "execution_count": 3,
   "metadata": {},
   "outputs": [],
   "source": [
    "def isCommunityAlive(comm_id, vk):\n",
    "    try:\n",
    "        info = vk.wall.get(owner_id=-comm_id, owners_only=1, count=1)\n",
    "        last_post_date = datetime.datetime.fromtimestamp(info.get('items')[0].get('date'))\n",
    "        last_count = datetime.datetime.now() - last_post_date\n",
    "        if (last_count.days < 30):\n",
    "            return (comm_id, \"Alive\")#f\"Alive, {last_count.days} refresh old\"\n",
    "        else:\n",
    "            return (comm_id, \"Dead\")#f\"Dead {last_count.days} refresh old\"\n",
    "    except:\n",
    "        return (comm_id, \"Access error/No posts\")"
   ]
  },
  {
   "cell_type": "code",
   "execution_count": 7,
   "metadata": {},
   "outputs": [
    {
     "name": "stdout",
     "output_type": "stream",
     "text": [
      "CPU times: user 149 ms, sys: 2.48 ms, total: 152 ms\n",
      "Wall time: 4.82 s\n"
     ]
    }
   ],
   "source": [
    "%%time \n",
    "\n",
    "\n",
    "vk_session = vk_api.VkApi(login=settings.MY_USER_LOGIN, password=settings.MY_USER_PASSWORD)\n",
    "try:\n",
    "    vk_session.auth(reauth=True, token_only=True)\n",
    "except vk_api.AuthError as error_msg:\n",
    "    print(error_msg)\n",
    "    \n",
    "vk = vk_session.get_api()\n",
    "\n",
    "ans = [isCommunityAlive(group_id, vk) for group_id in download_list]"
   ]
  },
  {
   "cell_type": "code",
   "execution_count": 8,
   "metadata": {},
   "outputs": [
    {
     "data": {
      "text/plain": [
       "[(1, 'Alive'),\n",
       " (4, 'Dead'),\n",
       " (7, 'Access error/No posts'),\n",
       " (11, 'Alive'),\n",
       " (12, 'Dead'),\n",
       " (13, 'Dead'),\n",
       " (16, 'Dead'),\n",
       " (18, 'Alive'),\n",
       " (21, 'Alive'),\n",
       " (24, 'Alive')]"
      ]
     },
     "execution_count": 8,
     "metadata": {},
     "output_type": "execute_result"
    }
   ],
   "source": [
    "ans"
   ]
  },
  {
   "cell_type": "code",
   "execution_count": null,
   "metadata": {},
   "outputs": [],
   "source": []
  }
 ],
 "metadata": {
  "kernelspec": {
   "display_name": "Python 3",
   "language": "python",
   "name": "python3"
  },
  "language_info": {
   "codemirror_mode": {
    "name": "ipython",
    "version": 3
   },
   "file_extension": ".py",
   "mimetype": "text/x-python",
   "name": "python",
   "nbconvert_exporter": "python",
   "pygments_lexer": "ipython3",
   "version": "3.6.6"
  }
 },
 "nbformat": 4,
 "nbformat_minor": 2
}
