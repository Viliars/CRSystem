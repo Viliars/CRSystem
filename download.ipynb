{
 "cells": [
  {
   "cell_type": "code",
   "execution_count": 1,
   "metadata": {},
   "outputs": [],
   "source": [
    "with open('to_download.txt') as f:\n",
    "    download_list = f.readlines()\n",
    "# you may also want to remove whitespace characters like `\\n` at the end of each line\n",
    "download_list = [int(x.strip()) for x in download_list]"
   ]
  },
  {
   "cell_type": "code",
   "execution_count": 2,
   "metadata": {},
   "outputs": [],
   "source": [
    "import shelve\n",
    "from time import sleep\n",
    "import vk_api\n",
    "from vk_api import VkUpload\n",
    "from vk_api.longpoll import VkLongPoll, VkEventType\n",
    "import requests\n",
    "from vk_api.execute import VkFunction\n",
    "import pandas as pd\n",
    "import matplotlib.pyplot as plt\n",
    "import matplotlib\n",
    "import json\n",
    "import datetime\n",
    "import numpy as np\n",
    "import shelve\n",
    "\n",
    "\n",
    "import settings"
   ]
  },
  {
   "cell_type": "code",
   "execution_count": 3,
   "metadata": {},
   "outputs": [],
   "source": [
    "FIRST_ID = 0\n",
    "LAST_ID = 700000"
   ]
  },
  {
   "cell_type": "code",
   "execution_count": 5,
   "metadata": {},
   "outputs": [],
   "source": [
    "def isCommunityAlive(comm_id, vk):\n",
    "    try:\n",
    "        info = vk.wall.get(owner_id=-comm_id, owners_only=1, count=2)\n",
    "        try:\n",
    "            date1 = datetime.datetime.fromtimestamp(info.get('items')[0].get('date'))\n",
    "        except:\n",
    "            return (comm_id,  \"Dead\") #No posts\n",
    "                                                    \n",
    "        try: #the only one post\n",
    "            date2 = datetime.datetime.fromtimestamp(info.get('items')[1].get('date'))\n",
    "            last_post_date = max(date1, date2)\n",
    "        except:\n",
    "            last_post_date = date1\n",
    "                             \n",
    "        last_count = datetime.datetime.now() - last_post_date\n",
    "        if (last_count.days < 30):\n",
    "            return (comm_id, \"Alive\")\n",
    "        else:\n",
    "            return (comm_id, \"Dead\")\n",
    "    except vk_api.exceptions.ApiError as e:\n",
    "        return (comm_id, e.__str__())"
   ]
  },
  {
   "cell_type": "code",
   "execution_count": 11,
   "metadata": {},
   "outputs": [
    {
     "name": "stdout",
     "output_type": "stream",
     "text": [
      "CPU times: user 138 ms, sys: 20.3 ms, total: 159 ms\n",
      "Wall time: 1.91 s\n"
     ]
    }
   ],
   "source": [
    "%%time \n",
    "\n",
    "\n",
    "vk_session = vk_api.VkApi(login=settings.MY_USER_LOGIN, password=settings.MY_USER_PASSWORD)\n",
    "try:\n",
    "    vk_session.auth(reauth=True, token_only=True)\n",
    "except vk_api.AuthError as error_msg:\n",
    "    print(error_msg)\n",
    "    \n",
    "vk = vk_session.get_api()\n",
    "\n",
    "ans = [isCommunityAlive(group_id, vk) for group_id in download_list if FIRST_ID <= group_id <= LAST_ID]"
   ]
  },
  {
   "cell_type": "code",
   "execution_count": 31,
   "metadata": {},
   "outputs": [],
   "source": [
    "File = shelve.open(\"data.dat\")\n",
    "File['info'] = ans\n",
    "File.close()"
   ]
  }
 ],
 "metadata": {
  "kernelspec": {
   "display_name": "Python 3",
   "language": "python",
   "name": "python3"
  },
  "language_info": {
   "codemirror_mode": {
    "name": "ipython",
    "version": 3
   },
   "file_extension": ".py",
   "mimetype": "text/x-python",
   "name": "python",
   "nbconvert_exporter": "python",
   "pygments_lexer": "ipython3",
   "version": "3.6.6"
  }
 },
 "nbformat": 4,
 "nbformat_minor": 2
}
