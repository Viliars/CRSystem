{
 "cells": [
  {
   "cell_type": "code",
   "execution_count": null,
   "metadata": {},
   "outputs": [],
   "source": [
    "def iter(N=5000, to_download_file='to_download.txt',\n",
    "                 already_downloaded='already_downloaded.txt'):\n",
    "    with open(to_download_file) as f:\n",
    "        download_list = f.readlines()\n",
    "        download_list = [int(x.strip()) for x in download_list]\n",
    "        \n",
    "    with open(already_downloaded_file) as f:\n",
    "        already_downloaded = f.readlines()\n",
    "        already_downloaded = [int(x.strip()) for x in already_downloaded]\n",
    "        \n",
    "    to_downl = [item for item in download_list if item not in already_downloaded]\n",
    "    \n",
    "    cut_to_downl = to_downl[:min(to_downl_len, N)]\n",
    "    \n",
    "    for item in cut_to_downl:\n",
    "        yield item"
   ]
  }
 ],
 "metadata": {
  "kernelspec": {
   "display_name": "Python 3",
   "language": "python",
   "name": "python3"
  },
  "language_info": {
   "codemirror_mode": {
    "name": "ipython",
    "version": 3
   },
   "file_extension": ".py",
   "mimetype": "text/x-python",
   "name": "python",
   "nbconvert_exporter": "python",
   "pygments_lexer": "ipython3",
   "version": "3.6.6"
  }
 },
 "nbformat": 4,
 "nbformat_minor": 2
}
